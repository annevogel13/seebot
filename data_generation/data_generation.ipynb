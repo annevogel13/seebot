{
 "cells": [
  {
   "cell_type": "code",
   "execution_count": 10,
   "metadata": {},
   "outputs": [],
   "source": [
    "# pip install firebase_admin\n",
    "#pip install datetime"
   ]
  },
  {
   "cell_type": "code",
   "execution_count": 6,
   "metadata": {},
   "outputs": [],
   "source": [
    "import firebase_admin\n",
    "from firebase_admin import credentials, firestore"
   ]
  },
  {
   "cell_type": "code",
   "execution_count": 7,
   "metadata": {},
   "outputs": [],
   "source": [
    "cred = credentials.Certificate(\"./infinite-hope-444810-i6-firebase-adminsdk-yd3a1-b3d8b4f2ba.json\")\n",
    "firebase_admin.initialize_app(cred)\n",
    "\n",
    "db = firestore.client()"
   ]
  },
  {
   "cell_type": "code",
   "execution_count": 46,
   "metadata": {},
   "outputs": [
    {
     "name": "stdout",
     "output_type": "stream",
     "text": [
      "{'0Pe3rRyTvS3xY8H83EZL': [[47.53778549174926, 9.40149262547493], [47.53819495042763, 9.401967376470566], [47.53864967442201, 9.400986023247242], [47.53824293542552, 9.400395601987839]], '1lGgtnR9NeObZFqfVdNg': [[47.54536459911934, 9.397201426327229], [47.54474811757352, 9.396118819713593], [47.54428892011002, 9.396947287023067], [47.54502376990978, 9.397806264460087]], 'F6btsazl2hwVzpOz4sua': [[[47.519662668364006, 9.435665644705296], [47.520149705039586, 9.43602304905653], [47.51992056514916, 9.43639487028122], [47.51951073735549, 9.436104856431484]]], 'G6gJEQkIRZdCVIGf7izR': [[[47.53802224934071, 9.401967376470566], [47.53765941676388, 9.401542246341705], [47.53739436405552, 9.401838630437851], [47.53767729815369, 9.402696937322617], [47.53807317698121, 9.402465932071209]]], 'cuvoFD9ncu06XrWZ2OC4': [[[47.55004025339046, 9.385452345013618], [47.55053945401707, 9.386408887803555], [47.5509449661665, 9.385818131268024]]]}\n"
     ]
    }
   ],
   "source": [
    "import json \n",
    "\n",
    "# get boundary coordinates from the database\n",
    "def fetch_coordinates():\n",
    "    docs = db.collection('areas').stream()\n",
    "    coordinates_per_area = {}\n",
    "\n",
    "    for doc in docs:\n",
    "        area = doc.to_dict()\n",
    "        doc_id = doc.id\n",
    "                \n",
    "        markers = area.get('markers')\n",
    "        list_markers = []\n",
    "        \n",
    "        if isinstance(markers, str):\n",
    "            markers_lat_lon = json.loads(markers)\n",
    "            list_markers.append(markers_lat_lon)\n",
    "            \n",
    "        else : \n",
    "            if isinstance(markers, object):\n",
    "            \n",
    "                for m in markers : \n",
    "                    geopoint = m.get('geopoint')\n",
    "                    latitude = geopoint.latitude\n",
    "                    longitude =geopoint.longitude\n",
    "                    \n",
    "                    if latitude is not None and longitude is not None:\n",
    "                        list_markers.append([latitude,longitude])\n",
    "\n",
    "        coordinates_per_area[doc_id] = list_markers\n",
    "    return coordinates_per_area\n",
    "\n",
    "\n",
    "\n",
    "coordinates_per_area = fetch_coordinates()\n",
    "print(coordinates_per_area)\n",
    "# could also be getting the data from the database \n",
    "boundary_coords = [\n",
    "    [47.53824293542552, 9.400395601987839],\n",
    "    [47.53819495042763, 9.401967376470566],\n",
    "    [47.53864967442201, 9.400986023247242],\n",
    "    [47.53824293542552, 9.400395601987839]\n",
    "]\n"
   ]
  },
  {
   "cell_type": "code",
   "execution_count": 16,
   "metadata": {},
   "outputs": [],
   "source": [
    "import datetime\n",
    "import random \n",
    "\n",
    "# generating realalistic data\n",
    "# Update the GPS data generation to limit the total time span to 5 minutes\n",
    "def generate_limited_gps_data(total_duration_minutes=5, interval_seconds=30):\n",
    "    gps_data = []\n",
    "    base_time = datetime.datetime.now()\n",
    "    lat_min = min(coord[0] for coord in boundary_coords)\n",
    "    lat_max = max(coord[0] for coord in boundary_coords)\n",
    "    lon_min = min(coord[1] for coord in boundary_coords)\n",
    "    lon_max = max(coord[1] for coord in boundary_coords)\n",
    "\n",
    "    statuses = [\"driving\", \"mowing\", \"calculating direction\", \"awaiting instructions\"]\n",
    "    \n",
    "    total_seconds = total_duration_minutes * 60\n",
    "    num_points = total_seconds // interval_seconds\n",
    "\n",
    "    for i in range(num_points):\n",
    "        # Generate a random coordinate within the boundary\n",
    "        latitude = random.uniform(lat_min, lat_max)\n",
    "        longitude = random.uniform(lon_min, lon_max)\n",
    "        \n",
    "        # Simulate timestamps and movements\n",
    "        timestamp = base_time + datetime.timedelta(seconds=i * interval_seconds)\n",
    "        time_spent = random.randint(10, interval_seconds)  # seconds spent at coordinate\n",
    "        annotations = random.choice(statuses)\n",
    "        \n",
    "        gps_data.append({\n",
    "            \"Latitude\": round(latitude, 8),\n",
    "            \"Longitude\": round(longitude, 8),\n",
    "            \"Timestamp\": timestamp.isoformat(),\n",
    "            \"Time Spent\": time_spent,\n",
    "            \"Annotations\": annotations\n",
    "        })\n",
    "    \n",
    "    return gps_data"
   ]
  },
  {
   "cell_type": "code",
   "execution_count": 24,
   "metadata": {},
   "outputs": [],
   "source": [
    "# write the data to firestore\n",
    "def write_data_to_firestore(current_time, data):\n",
    "    \n",
    "    doc_ref = db.collection(\"session\").document()\n",
    "    doc_ref.set({\n",
    "        'session_time' : current_time,\n",
    "        'datapoints' : data\n",
    "    })\n",
    "    "
   ]
  },
  {
   "cell_type": "code",
   "execution_count": 25,
   "metadata": {},
   "outputs": [],
   "source": [
    "# combining ressources to write (fake) data to firestore\n",
    "limited_gps_data = generate_limited_gps_data(total_duration_minutes=5, interval_seconds=30)\n",
    "time = datetime.datetime.now()\n",
    "\n",
    "write_data_to_firestore(time, limited_gps_data)\n"
   ]
  }
 ],
 "metadata": {
  "kernelspec": {
   "display_name": ".venv",
   "language": "python",
   "name": "python3"
  },
  "language_info": {
   "codemirror_mode": {
    "name": "ipython",
    "version": 3
   },
   "file_extension": ".py",
   "mimetype": "text/x-python",
   "name": "python",
   "nbconvert_exporter": "python",
   "pygments_lexer": "ipython3",
   "version": "3.11.9"
  }
 },
 "nbformat": 4,
 "nbformat_minor": 2
}
