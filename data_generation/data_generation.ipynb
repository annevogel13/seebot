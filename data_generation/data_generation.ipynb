{
 "cells": [
  {
   "cell_type": "code",
   "execution_count": 22,
   "metadata": {},
   "outputs": [],
   "source": [
    "# pip install firebase_admin\n",
    "#pip install datetime"
   ]
  },
  {
   "cell_type": "code",
   "execution_count": 23,
   "metadata": {},
   "outputs": [],
   "source": [
    "import firebase_admin\n",
    "from firebase_admin import credentials, firestore"
   ]
  },
  {
   "cell_type": "code",
   "execution_count": 24,
   "metadata": {},
   "outputs": [],
   "source": [
    "if not firebase_admin._apps:\n",
    "\tcred = credentials.Certificate(\"./infinite-hope-444810-i6-firebase-adminsdk-yd3a1-b3d8b4f2ba.json\")\n",
    "\tfirebase_admin.initialize_app(cred)\n",
    "\n",
    "db = firestore.client()"
   ]
  },
  {
   "cell_type": "code",
   "execution_count": 25,
   "metadata": {},
   "outputs": [
    {
     "name": "stdout",
     "output_type": "stream",
     "text": [
      "{'description': '2334', 'title': 'a1', 'status': 0, 'markers': [{'geohash': 'u0qwmvvzw', 'geopoint': <google.cloud.firestore_v1._helpers.GeoPoint object at 0x000002843D75AC90>}, {'geohash': 'u0qwmyn61', 'geopoint': <google.cloud.firestore_v1._helpers.GeoPoint object at 0x000002843C67D450>}, {'geohash': 'u0qwmyjsd', 'geopoint': <google.cloud.firestore_v1._helpers.GeoPoint object at 0x000002843D79DBD0>}, {'geohash': 'u0qwmyj4m', 'geopoint': <google.cloud.firestore_v1._helpers.GeoPoint object at 0x000002843D7485D0>}]}\n",
      "{'description': '3455', 'title': 't12', 'status': 0, 'markers': [{'geohash': 'u0qwmz6gf', 'geopoint': <google.cloud.firestore_v1._helpers.GeoPoint object at 0x000002843C67CF10>}, {'geohash': 'u0qwmz601', 'geopoint': <google.cloud.firestore_v1._helpers.GeoPoint object at 0x000002843D749390>}, {'geohash': 'u0qwmz4ts', 'geopoint': <google.cloud.firestore_v1._helpers.GeoPoint object at 0x000002843D74BC90>}, {'geohash': 'u0qwmz73b', 'geopoint': <google.cloud.firestore_v1._helpers.GeoPoint object at 0x000002843C68B250>}]}\n",
      "{'description': 'my first try.', 'title': 'area3', 'status': 0, 'markers': '[[47.53776082000757,9.401527494192123],[47.5380840415381,9.401847012341022],[47.5381132400236,9.40118383616209]]'}\n",
      "{'title': 'test 4', 'description': 'Demo 2', 'status': 0, 'markers': '[[47.519662668364006,9.435665644705296],[47.520149705039586,9.43602304905653],[47.51992056514916,9.43639487028122],[47.51951073735549,9.436104856431484]]'}\n",
      "{'description': 'vvv', 'title': 'aaa', 'status': 0, 'markers': '[[47.538166883710424,9.401871152222157],[47.53782962923985,9.401517435908318],[47.53803990426167,9.401422552764416]]'}\n",
      "{'title': 'Area 22', 'description': 'demo', 'status': 0, 'markers': '[[47.53661594788646,9.40695594996214],[47.53822731767159,9.407822638750076],[47.53788531032878,9.40487153828144]]'}\n",
      "{'description': '', 'title': 'Area 10', 'status': 0, 'markers': '[[47.54234164279943,9.409272372722626],[47.54134851257217,9.41407922655344],[47.539615695185084,9.407882988452911]]'}\n",
      "{'a1': [[47.53778549174926, 9.40149262547493], [47.53819495042763, 9.401967376470566], [47.53864967442201, 9.400986023247242], [47.53824293542552, 9.400395601987839]], 't12': [[47.54536459911934, 9.397201426327229], [47.54474811757352, 9.396118819713593], [47.54428892011002, 9.396947287023067], [47.54502376990978, 9.397806264460087]], 'area3': [[[47.53776082000757, 9.401527494192123], [47.5380840415381, 9.401847012341022], [47.5381132400236, 9.40118383616209]]], 'test 4': [[[47.519662668364006, 9.435665644705296], [47.520149705039586, 9.43602304905653], [47.51992056514916, 9.43639487028122], [47.51951073735549, 9.436104856431484]]], 'aaa': [[[47.538166883710424, 9.401871152222157], [47.53782962923985, 9.401517435908318], [47.53803990426167, 9.401422552764416]]], 'Area 22': [[[47.53661594788646, 9.40695594996214], [47.53822731767159, 9.407822638750076], [47.53788531032878, 9.40487153828144]]], 'Area 10': [[[47.54234164279943, 9.409272372722626], [47.54134851257217, 9.41407922655344], [47.539615695185084, 9.407882988452911]]]}\n"
     ]
    }
   ],
   "source": [
    "import json \n",
    "\n",
    "# get boundary coordinates from the database\n",
    "def fetch_coordinates():\n",
    "    docs = db.collection('areas').stream()\n",
    "    coordinates_per_area = {}\n",
    "\n",
    "    for doc in docs:\n",
    "        area = doc.to_dict()\n",
    "        doc_id = doc.id\n",
    "        title = area.get('title')\n",
    "        print(area)\n",
    "        markers = area.get('markers')\n",
    "        list_markers = []\n",
    "        \n",
    "        if isinstance(markers, str):\n",
    "            markers_lat_lon = json.loads(markers)\n",
    "            list_markers.append(markers_lat_lon)\n",
    "            \n",
    "        else : \n",
    "            if isinstance(markers, object):\n",
    "            \n",
    "                for m in markers : \n",
    "                    geopoint = m.get('geopoint')\n",
    "                    latitude = geopoint.latitude\n",
    "                    longitude =geopoint.longitude\n",
    "                    \n",
    "                    if latitude is not None and longitude is not None:\n",
    "                        list_markers.append([latitude,longitude])\n",
    "\n",
    "        coordinates_per_area[title] = list_markers\n",
    "    return coordinates_per_area\n",
    "\n",
    "\n",
    "\n",
    "coordinates_per_area = fetch_coordinates()\n",
    "print(coordinates_per_area)\n",
    "# could also be getting the data from the database \n"
   ]
  },
  {
   "cell_type": "code",
   "execution_count": 26,
   "metadata": {},
   "outputs": [],
   "source": [
    "import datetime\n",
    "import random \n",
    "\n",
    "# generating realalistic data\n",
    "# Update the GPS data generation to limit the total time span to 5 minutes\n",
    "def generate_limited_gps_data(boundary_coords, total_duration_minutes=5, interval_seconds=5):\n",
    "    gps_data = []\n",
    "    base_time = datetime.datetime.now()\n",
    "    lat_min = min(coord[0] for coord in boundary_coords)\n",
    "    lat_max = max(coord[0] for coord in boundary_coords)\n",
    "    lon_min = min(coord[1] for coord in boundary_coords)\n",
    "    lon_max = max(coord[1] for coord in boundary_coords)\n",
    "\n",
    "    statuses = [\"driving\", \"mowing\", \"calculating direction\", \"awaiting instructions\"]\n",
    "\n",
    "    total_seconds = total_duration_minutes * 60\n",
    "    num_points = total_seconds // interval_seconds\n",
    "\n",
    "    for i in range(num_points):\n",
    "        # Generate a random coordinate within the boundary\n",
    "        latitude = random.uniform(lat_min, lat_max)\n",
    "        longitude = random.uniform(lon_min, lon_max)\n",
    "        \n",
    "        # Simulate timestamps and movements\n",
    "        timestamp = base_time + datetime.timedelta(seconds=i * interval_seconds)\n",
    "        time_spent = random.randint(10, interval_seconds)  # seconds spent at coordinate\n",
    "        annotations = random.choice(statuses)\n",
    "        \n",
    "        gps_data.append({\n",
    "            \"Latitude\": round(latitude, 8),\n",
    "            \"Longitude\": round(longitude, 8),\n",
    "            \"Timestamp\": timestamp.isoformat(),\n",
    "            \"Time Spent\": time_spent,\n",
    "            \"Annotations\": annotations\n",
    "        })\n",
    "    \n",
    "    return gps_data"
   ]
  },
  {
   "cell_type": "code",
   "execution_count": 27,
   "metadata": {},
   "outputs": [],
   "source": [
    "# write the data to firestore\n",
    "def write_data_to_firestore(current_time, data, area):\n",
    "    \n",
    "    doc_ref = db.collection(\"session\").document()\n",
    "    doc_ref.set({\n",
    "        'session_time' : current_time,\n",
    "        'datapoints' : data,\n",
    "        'area' : area\t\n",
    "    })\n",
    "    "
   ]
  },
  {
   "cell_type": "code",
   "execution_count": null,
   "metadata": {},
   "outputs": [
    {
     "name": "stdout",
     "output_type": "stream",
     "text": [
      "a1\n",
      "4 a1\n",
      "t12\n",
      "4 t12\n",
      "area3\n",
      "test 4\n",
      "aaa\n",
      "Area 22\n",
      "Area 10\n"
     ]
    },
    {
     "ename": "",
     "evalue": "",
     "output_type": "error",
     "traceback": [
      "\u001b[1;31mThe Kernel crashed while executing code in the current cell or a previous cell. \n",
      "\u001b[1;31mPlease review the code in the cell(s) to identify a possible cause of the failure. \n",
      "\u001b[1;31mClick <a href='https://aka.ms/vscodeJupyterKernelCrash'>here</a> for more info. \n",
      "\u001b[1;31mView Jupyter <a href='command:jupyter.viewOutput'>log</a> for further details."
     ]
    }
   ],
   "source": [
    "# combining ressources to write (fake) data to firestore\n",
    "for area, boundary_coords in coordinates_per_area.items():\n",
    "    print(area)\n",
    "    if boundary_coords and len(boundary_coords) > 1:  # Ensure boundary_coords is not empty\n",
    "        print(len(boundary_coords), area)\n",
    "        limited_gps_data = generate_limited_gps_data(boundary_coords, total_duration_minutes=4, interval_seconds=20)\n",
    "        time = datetime.datetime.now()\n",
    "        write_data_to_firestore(time, limited_gps_data, area)\n"
   ]
  }
 ],
 "metadata": {
  "kernelspec": {
   "display_name": ".venv",
   "language": "python",
   "name": "python3"
  },
  "language_info": {
   "codemirror_mode": {
    "name": "ipython",
    "version": 3
   },
   "file_extension": ".py",
   "mimetype": "text/x-python",
   "name": "python",
   "nbconvert_exporter": "python",
   "pygments_lexer": "ipython3",
   "version": "3.11.9"
  }
 },
 "nbformat": 4,
 "nbformat_minor": 2
}
